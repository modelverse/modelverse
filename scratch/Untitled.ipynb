{
 "cells": [
  {
   "cell_type": "code",
   "execution_count": 82,
   "id": "textile-expression",
   "metadata": {
    "ExecuteTime": {
     "end_time": "2021-12-12T20:26:06.274695Z",
     "start_time": "2021-12-12T20:26:06.267063Z"
    }
   },
   "outputs": [],
   "source": [
    "import pandas as pd\n",
    "import numpy as np\n",
    "from schema import Schema\n",
    "\n",
    "\n",
    "def arr2_in_arr1(arr1, arr2):\n",
    "    \"\"\" Find index of arr2 in arr1 if arr2 is subset of arr1.\n",
    "\n",
    "    Args:\n",
    "        arr1 (np.array):\n",
    "        arr2 (np.array):\n",
    "\n",
    "    Returns:\n",
    "\n",
    "    \"\"\"\n",
    "\n",
    "    sort_idx = arr1.argsort()\n",
    "    ret = sort_idx[np.searchsorted(arr1, arr2, sorter=sort_idx)]\n",
    "    return ret"
   ]
  },
  {
   "cell_type": "code",
   "execution_count": 83,
   "id": "greenhouse-passing",
   "metadata": {
    "ExecuteTime": {
     "end_time": "2021-12-12T20:26:06.808588Z",
     "start_time": "2021-12-12T20:26:06.794294Z"
    }
   },
   "outputs": [],
   "source": [
    "\n",
    "class Fold(dict):\n",
    "    def __init__(self, *args, **kw):\n",
    "        \"\"\"\n",
    "        fold = { <dataset name>: array([indices]), <dataset name>: array([indices]), ... }\n",
    "        \"\"\"\n",
    "        super().__init__(*args, **kw)\n",
    "\n",
    "        self.dataset_names = list(self.keys())  # todo: ordered?\n",
    "        self.dtype = self[self.dataset_names[0]].dtype.type\n",
    "        self._index = None\n",
    "\n",
    "        # checks\n",
    "        assert self.dtype in [np.str_, np.int64], f\"Dataset indices must be int or str\"\n",
    "        assert 'train' in self.dataset_names, f\"At least one dataset must be named 'train'\"\n",
    "        for k, v in self.items():\n",
    "            assert v.dtype.type == self.dtype, f\"Dataset indices must be of same dtype\"\n",
    "            assert isinstance(k, str), f\"Dataset names must be string\"\n",
    "            assert isinstance(v, np.ndarray), f\"Dataset indices must be arrays\"\n",
    "\n",
    "    def __str__(self):\n",
    "        ret = \"\"\n",
    "        for d in self.dataset_names:\n",
    "            ret = f\"{ret}Dataset: {d:<10} Num points: {len(self[d])}\\n\"\n",
    "        return ret\n",
    "\n",
    "    @property\n",
    "    def index(self):\n",
    "        # cached property - calculated only when called first time as it can be expensive for large folds\n",
    "        if self._index is None:\n",
    "            ret = np.array([], dtype=self.dtype)\n",
    "            for d in self.dataset_names:\n",
    "                ret = np.append(ret, np.array(self[d]))\n",
    "            self._index = np.unique(ret)\n",
    "        return self._index\n"
   ]
  },
  {
   "cell_type": "code",
   "execution_count": 138,
   "id": "useful-lunch",
   "metadata": {
    "ExecuteTime": {
     "end_time": "2021-12-12T20:52:20.483238Z",
     "start_time": "2021-12-12T20:52:20.463237Z"
    }
   },
   "outputs": [],
   "source": [
    "class Split(list):\n",
    "    def __init__(self, *args, **kw):\n",
    "        \"\"\"\n",
    "        split = [ Fold(), Fold(), ... ]\n",
    "        \"\"\"\n",
    "        super().__init__(*args, **kw)\n",
    "        self.dataset_names = self[0].dataset_names\n",
    "        self.dtype = self[0].dtype\n",
    "        self._index = None\n",
    "\n",
    "        # checks\n",
    "        for v in self:\n",
    "            assert isinstance(v, Fold)\n",
    "            assert list(v.keys()) == self.dataset_names, f\"All folds must have same dataset names\"\n",
    "            assert v.dtype == self.dtype, f\"All folds must be of same dtype\"\n",
    "            \n",
    "    @property\n",
    "    def index(self):\n",
    "        # cached property - calculated only when called first time as it can be expensive for large folds\n",
    "        if self._index is None:\n",
    "            ret = np.array([], dtype=self.dtype)\n",
    "            for name in range(len(self)):\n",
    "                for dataset in self.dataset_names:\n",
    "                    ret = np.append(ret, np.array(self[name][dataset], dtype=self.dtype))\n",
    "            self._index = np.unique(ret)\n",
    "        return self._index\n",
    "    \n",
    "    def __str__(self):\n",
    "        ret = \"\"\n",
    "        for name in range(len(self)):\n",
    "            for d in self.dataset_names:\n",
    "                ret = f\"{ret}Fold: {name:<10} Dataset: {d:<10} Num points: {len(self[name][d])}\\n\"\n",
    "\n",
    "        ret = f\"{ret}\\n{len(self)} folds, {len(self.dataset_names)} datasets, {len(self.index)} points\"\n",
    "        return ret\n",
    "    \n",
    "    def reset_index(self):\n",
    "        index = self.index\n",
    "        new_split = []\n",
    "        for fold_name, fold in enumerate(self):\n",
    "            new_split.append(Fold(\n",
    "                {dataset_name: arr2_in_arr1(arr1=index, arr2=indices) for dataset_name, indices in fold.items()})\n",
    "                            )\n",
    "\n",
    "        return Split(new_split)\n",
    "    def iter(self):\n",
    "        for ix in range(len(self)):\n",
    "            # yields <fold no>, <watchlist>\n",
    "            # where <watchlist> = [(<dataset name 1> , <dataset idx 1>), (<dataset name 2> , <dataset idx 2>), .. ]\n",
    "            yield ix, [(d, self[ix][d]) for d in self.dataset_names]\n"
   ]
  },
  {
   "cell_type": "code",
   "execution_count": 141,
   "id": "modular-celtic",
   "metadata": {
    "ExecuteTime": {
     "end_time": "2021-12-12T20:52:47.345302Z",
     "start_time": "2021-12-12T20:52:47.327656Z"
    }
   },
   "outputs": [
    {
     "data": {
      "text/plain": [
       "array(['1', '2', '3'], dtype='<U1')"
      ]
     },
     "execution_count": 141,
     "metadata": {},
     "output_type": "execute_result"
    },
    {
     "name": "stdout",
     "output_type": "stream",
     "text": [
      "Fold: 0          Dataset: train      Num points: 2\n",
      "Fold: 1          Dataset: train      Num points: 2\n",
      "\n",
      "2 folds, 1 datasets, 3 points\n"
     ]
    },
    {
     "data": {
      "text/plain": [
       "[{'train': array([0, 1])}, {'train': array([1, 2])}]"
      ]
     },
     "execution_count": 141,
     "metadata": {},
     "output_type": "execute_result"
    },
    {
     "data": {
      "text/plain": [
       "(0, [('train', array(['1', '2'], dtype='<U1'))])"
      ]
     },
     "execution_count": 141,
     "metadata": {},
     "output_type": "execute_result"
    },
    {
     "data": {
      "text/plain": [
       "(1, [('train', array(['2', '3'], dtype='<U1'))])"
      ]
     },
     "execution_count": 141,
     "metadata": {},
     "output_type": "execute_result"
    }
   ],
   "source": [
    "s = Split([Fold({'train': np.array(['1','2'])}),\n",
    "           Fold({'train': np.array(['2','3'])})])\n",
    "s.index\n",
    "print(s)\n",
    "# s.index\n",
    "# print(s)\n",
    "s.reset_index()\n",
    "for k, v in s.iter():\n",
    "    k, v"
   ]
  },
  {
   "cell_type": "code",
   "execution_count": 40,
   "id": "outer-chicken",
   "metadata": {
    "ExecuteTime": {
     "end_time": "2021-12-12T20:06:29.401764Z",
     "start_time": "2021-12-12T20:06:29.388857Z"
    }
   },
   "outputs": [
    {
     "data": {
      "text/plain": [
       "numpy.str_"
      ]
     },
     "execution_count": 40,
     "metadata": {},
     "output_type": "execute_result"
    }
   ],
   "source": [
    "x[1].dtype.type"
   ]
  }
 ],
 "metadata": {
  "kernelspec": {
   "display_name": "Python 3",
   "language": "python",
   "name": "python3"
  },
  "language_info": {
   "codemirror_mode": {
    "name": "ipython",
    "version": 3
   },
   "file_extension": ".py",
   "mimetype": "text/x-python",
   "name": "python",
   "nbconvert_exporter": "python",
   "pygments_lexer": "ipython3",
   "version": "3.8.8"
  },
  "toc": {
   "base_numbering": 1,
   "nav_menu": {},
   "number_sections": true,
   "sideBar": true,
   "skip_h1_title": false,
   "title_cell": "Table of Contents",
   "title_sidebar": "Contents",
   "toc_cell": false,
   "toc_position": {},
   "toc_section_display": true,
   "toc_window_display": false
  }
 },
 "nbformat": 4,
 "nbformat_minor": 5
}
